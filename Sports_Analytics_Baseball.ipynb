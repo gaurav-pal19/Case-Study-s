{
  "nbformat": 4,
  "nbformat_minor": 0,
  "metadata": {
    "colab": {
      "name": "Sports_Analytics_Baseball.ipynb",
      "provenance": [],
      "collapsed_sections": [],
      "include_colab_link": true
    },
    "kernelspec": {
      "display_name": "Python 3",
      "language": "python",
      "name": "python3"
    },
    "language_info": {
      "codemirror_mode": {
        "name": "ipython",
        "version": 3
      },
      "file_extension": ".py",
      "mimetype": "text/x-python",
      "name": "python",
      "nbconvert_exporter": "python",
      "pygments_lexer": "ipython3",
      "version": "3.7.3"
    }
  },
  "cells": [
    {
      "cell_type": "markdown",
      "metadata": {
        "id": "view-in-github",
        "colab_type": "text"
      },
      "source": [
        "<a href=\"https://colab.research.google.com/github/gaurav-pal19/Case-Study-s/blob/master/Sports_Analytics_Baseball.ipynb\" target=\"_parent\"><img src=\"https://colab.research.google.com/assets/colab-badge.svg\" alt=\"Open In Colab\"/></a>"
      ]
    },
    {
      "cell_type": "markdown",
      "metadata": {
        "colab_type": "text",
        "id": "TaFf_9SEO_Bz"
      },
      "source": [
        "One of the most compelling stories of sports analytics made popular by the 2011 movie Moneyball, the Oakland Athletics team of 2002 created history by winning 20 consecutive games between August 13 and September 2002.\n",
        "Much of the Oakland Athletics (popularly referred to as the A’s) success in that season is attributed to their General Manager, Billy Beane and former Assistant General Manager, Paul DePodesta."
      ]
    },
    {
      "cell_type": "markdown",
      "metadata": {
        "colab_type": "text",
        "id": "_WV8kKKTPXBR"
      },
      "source": [
        "DePodesta, a graduate in Economics from Harvard University joined the A’s in 1999 and quickly started incorporating analysis of baseball statistics to value and purchase players."
      ]
    },
    {
      "cell_type": "code",
      "metadata": {
        "colab_type": "code",
        "id": "rNIDikRVO8vW",
        "colab": {}
      },
      "source": [
        "import numpy as np\n",
        "import pandas as pd\n",
        "import matplotlib.pyplot as plt\n",
        "%matplotlib inline\n"
      ],
      "execution_count": 0,
      "outputs": []
    },
    {
      "cell_type": "code",
      "metadata": {
        "colab_type": "code",
        "id": "hYZghmpTEV94",
        "outputId": "af308d16-f7ec-4f00-91e2-7926ae4ecb89",
        "colab": {
          "base_uri": "https://localhost:8080/",
          "height": 34
        }
      },
      "source": [
        "from google.colab import drive\n",
        "drive.mount('/content/drive')"
      ],
      "execution_count": 5,
      "outputs": [
        {
          "output_type": "stream",
          "text": [
            "Drive already mounted at /content/drive; to attempt to forcibly remount, call drive.mount(\"/content/drive\", force_remount=True).\n"
          ],
          "name": "stdout"
        }
      ]
    },
    {
      "cell_type": "code",
      "metadata": {
        "colab_type": "code",
        "id": "9Ps1Q287FBLO",
        "colab": {}
      },
      "source": [
        "#RA - Runs Allowed\n",
        "#RS - Runs Scored\n",
        "#OBP - On Base Percentage\n",
        "#SLG - Slugging Percentage\n",
        "#BA - Batting Average\n",
        "#OOBP - Opponent's OBP\n",
        "#OSLG - Opponent's SLG\n",
        "#W - No of wins in that season\n",
        "#Statistical Analysis Clip from Moneyball (2011)"
      ],
      "execution_count": 0,
      "outputs": []
    },
    {
      "cell_type": "code",
      "metadata": {
        "colab_type": "code",
        "id": "uh_PdTrbD-Yx",
        "outputId": "82f12e79-7867-472e-9996-dc9807e116bf",
        "colab": {
          "base_uri": "https://localhost:8080/",
          "height": 195
        }
      },
      "source": [
        "df=pd.read_csv('/content/drive/My Drive/Colab Notebooks/GL/baseball.csv')\n",
        "df.head()"
      ],
      "execution_count": 7,
      "outputs": [
        {
          "output_type": "execute_result",
          "data": {
            "text/html": [
              "<div>\n",
              "<style scoped>\n",
              "    .dataframe tbody tr th:only-of-type {\n",
              "        vertical-align: middle;\n",
              "    }\n",
              "\n",
              "    .dataframe tbody tr th {\n",
              "        vertical-align: top;\n",
              "    }\n",
              "\n",
              "    .dataframe thead th {\n",
              "        text-align: right;\n",
              "    }\n",
              "</style>\n",
              "<table border=\"1\" class=\"dataframe\">\n",
              "  <thead>\n",
              "    <tr style=\"text-align: right;\">\n",
              "      <th></th>\n",
              "      <th>Team</th>\n",
              "      <th>League</th>\n",
              "      <th>Year</th>\n",
              "      <th>RS</th>\n",
              "      <th>RA</th>\n",
              "      <th>W</th>\n",
              "      <th>OBP</th>\n",
              "      <th>SLG</th>\n",
              "      <th>BA</th>\n",
              "      <th>Playoffs</th>\n",
              "      <th>RankSeason</th>\n",
              "      <th>RankPlayoffs</th>\n",
              "      <th>G</th>\n",
              "      <th>OOBP</th>\n",
              "      <th>OSLG</th>\n",
              "    </tr>\n",
              "  </thead>\n",
              "  <tbody>\n",
              "    <tr>\n",
              "      <th>0</th>\n",
              "      <td>ARI</td>\n",
              "      <td>NL</td>\n",
              "      <td>2012</td>\n",
              "      <td>734</td>\n",
              "      <td>688</td>\n",
              "      <td>81</td>\n",
              "      <td>0.328</td>\n",
              "      <td>0.418</td>\n",
              "      <td>0.259</td>\n",
              "      <td>0</td>\n",
              "      <td>NaN</td>\n",
              "      <td>NaN</td>\n",
              "      <td>162</td>\n",
              "      <td>0.317</td>\n",
              "      <td>0.415</td>\n",
              "    </tr>\n",
              "    <tr>\n",
              "      <th>1</th>\n",
              "      <td>ATL</td>\n",
              "      <td>NL</td>\n",
              "      <td>2012</td>\n",
              "      <td>700</td>\n",
              "      <td>600</td>\n",
              "      <td>94</td>\n",
              "      <td>0.320</td>\n",
              "      <td>0.389</td>\n",
              "      <td>0.247</td>\n",
              "      <td>1</td>\n",
              "      <td>4.0</td>\n",
              "      <td>5.0</td>\n",
              "      <td>162</td>\n",
              "      <td>0.306</td>\n",
              "      <td>0.378</td>\n",
              "    </tr>\n",
              "    <tr>\n",
              "      <th>2</th>\n",
              "      <td>BAL</td>\n",
              "      <td>AL</td>\n",
              "      <td>2012</td>\n",
              "      <td>712</td>\n",
              "      <td>705</td>\n",
              "      <td>93</td>\n",
              "      <td>0.311</td>\n",
              "      <td>0.417</td>\n",
              "      <td>0.247</td>\n",
              "      <td>1</td>\n",
              "      <td>5.0</td>\n",
              "      <td>4.0</td>\n",
              "      <td>162</td>\n",
              "      <td>0.315</td>\n",
              "      <td>0.403</td>\n",
              "    </tr>\n",
              "    <tr>\n",
              "      <th>3</th>\n",
              "      <td>BOS</td>\n",
              "      <td>AL</td>\n",
              "      <td>2012</td>\n",
              "      <td>734</td>\n",
              "      <td>806</td>\n",
              "      <td>69</td>\n",
              "      <td>0.315</td>\n",
              "      <td>0.415</td>\n",
              "      <td>0.260</td>\n",
              "      <td>0</td>\n",
              "      <td>NaN</td>\n",
              "      <td>NaN</td>\n",
              "      <td>162</td>\n",
              "      <td>0.331</td>\n",
              "      <td>0.428</td>\n",
              "    </tr>\n",
              "    <tr>\n",
              "      <th>4</th>\n",
              "      <td>CHC</td>\n",
              "      <td>NL</td>\n",
              "      <td>2012</td>\n",
              "      <td>613</td>\n",
              "      <td>759</td>\n",
              "      <td>61</td>\n",
              "      <td>0.302</td>\n",
              "      <td>0.378</td>\n",
              "      <td>0.240</td>\n",
              "      <td>0</td>\n",
              "      <td>NaN</td>\n",
              "      <td>NaN</td>\n",
              "      <td>162</td>\n",
              "      <td>0.335</td>\n",
              "      <td>0.424</td>\n",
              "    </tr>\n",
              "  </tbody>\n",
              "</table>\n",
              "</div>"
            ],
            "text/plain": [
              "  Team League  Year   RS   RA  ...  RankSeason  RankPlayoffs    G   OOBP   OSLG\n",
              "0  ARI     NL  2012  734  688  ...         NaN           NaN  162  0.317  0.415\n",
              "1  ATL     NL  2012  700  600  ...         4.0           5.0  162  0.306  0.378\n",
              "2  BAL     AL  2012  712  705  ...         5.0           4.0  162  0.315  0.403\n",
              "3  BOS     AL  2012  734  806  ...         NaN           NaN  162  0.331  0.428\n",
              "4  CHC     NL  2012  613  759  ...         NaN           NaN  162  0.335  0.424\n",
              "\n",
              "[5 rows x 15 columns]"
            ]
          },
          "metadata": {
            "tags": []
          },
          "execution_count": 7
        }
      ]
    },
    {
      "cell_type": "code",
      "metadata": {
        "colab_type": "code",
        "id": "9Je6Mqm8z84A",
        "outputId": "83a9f9e5-7a07-4319-aca5-8f862d330fd3",
        "colab": {
          "base_uri": "https://localhost:8080/",
          "height": 34
        }
      },
      "source": [
        "df.shape"
      ],
      "execution_count": 8,
      "outputs": [
        {
          "output_type": "execute_result",
          "data": {
            "text/plain": [
              "(1232, 15)"
            ]
          },
          "metadata": {
            "tags": []
          },
          "execution_count": 8
        }
      ]
    },
    {
      "cell_type": "code",
      "metadata": {
        "colab_type": "code",
        "id": "p4Z8wFvzyUwC",
        "outputId": "0b389cb6-f9f2-44f4-996d-5b995a481919",
        "colab": {
          "base_uri": "https://localhost:8080/",
          "height": 286
        }
      },
      "source": [
        "df['G'].hist()"
      ],
      "execution_count": 9,
      "outputs": [
        {
          "output_type": "execute_result",
          "data": {
            "text/plain": [
              "<matplotlib.axes._subplots.AxesSubplot at 0x7f9cd6b17ba8>"
            ]
          },
          "metadata": {
            "tags": []
          },
          "execution_count": 9
        },
        {
          "output_type": "display_data",
          "data": {
            "image/png": "[encoded data removed]",
            "text/plain": [
              "<Figure size 432x288 with 1 Axes>"
            ]
          },
          "metadata": {
            "tags": []
          }
        }
      ]
    },
    {
      "cell_type": "code",
      "metadata": {
        "colab_type": "code",
        "id": "-MJFVqWkyrVl",
        "outputId": "1681dfb0-e10e-4111-c638-82a966ee704d",
        "colab": {
          "base_uri": "https://localhost:8080/",
          "height": 432
        }
      },
      "source": [
        "df.corr()"
      ],
      "execution_count": 10,
      "outputs": [
        {
          "output_type": "execute_result",
          "data": {
            "text/html": [
              "<div>\n",
              "<style scoped>\n",
              "    .dataframe tbody tr th:only-of-type {\n",
              "        vertical-align: middle;\n",
              "    }\n",
              "\n",
              "    .dataframe tbody tr th {\n",
              "        vertical-align: top;\n",
              "    }\n",
              "\n",
              "    .dataframe thead th {\n",
              "        text-align: right;\n",
              "    }\n",
              "</style>\n",
              "<table border=\"1\" class=\"dataframe\">\n",
              "  <thead>\n",
              "    <tr style=\"text-align: right;\">\n",
              "      <th></th>\n",
              "      <th>Year</th>\n",
              "      <th>RS</th>\n",
              "      <th>RA</th>\n",
              "      <th>W</th>\n",
              "      <th>OBP</th>\n",
              "      <th>SLG</th>\n",
              "      <th>BA</th>\n",
              "      <th>Playoffs</th>\n",
              "      <th>RankSeason</th>\n",
              "      <th>RankPlayoffs</th>\n",
              "      <th>G</th>\n",
              "      <th>OOBP</th>\n",
              "      <th>OSLG</th>\n",
              "    </tr>\n",
              "  </thead>\n",
              "  <tbody>\n",
              "    <tr>\n",
              "      <th>Year</th>\n",
              "      <td>1.000000</td>\n",
              "      <td>0.418978</td>\n",
              "      <td>0.412020</td>\n",
              "      <td>0.004138</td>\n",
              "      <td>0.374354</td>\n",
              "      <td>0.536037</td>\n",
              "      <td>0.349397</td>\n",
              "      <td>0.145779</td>\n",
              "      <td>0.385219</td>\n",
              "      <td>0.443967</td>\n",
              "      <td>0.009287</td>\n",
              "      <td>-0.371869</td>\n",
              "      <td>-0.345667</td>\n",
              "    </tr>\n",
              "    <tr>\n",
              "      <th>RS</th>\n",
              "      <td>0.418978</td>\n",
              "      <td>1.000000</td>\n",
              "      <td>0.380139</td>\n",
              "      <td>0.511745</td>\n",
              "      <td>0.900492</td>\n",
              "      <td>0.918740</td>\n",
              "      <td>0.827000</td>\n",
              "      <td>0.386628</td>\n",
              "      <td>-0.027687</td>\n",
              "      <td>0.210963</td>\n",
              "      <td>0.075195</td>\n",
              "      <td>0.133981</td>\n",
              "      <td>0.193426</td>\n",
              "    </tr>\n",
              "    <tr>\n",
              "      <th>RA</th>\n",
              "      <td>0.412020</td>\n",
              "      <td>0.380139</td>\n",
              "      <td>1.000000</td>\n",
              "      <td>-0.532394</td>\n",
              "      <td>0.326360</td>\n",
              "      <td>0.436527</td>\n",
              "      <td>0.330764</td>\n",
              "      <td>-0.261477</td>\n",
              "      <td>0.399141</td>\n",
              "      <td>0.315128</td>\n",
              "      <td>-0.023369</td>\n",
              "      <td>0.910344</td>\n",
              "      <td>0.909319</td>\n",
              "    </tr>\n",
              "    <tr>\n",
              "      <th>W</th>\n",
              "      <td>0.004138</td>\n",
              "      <td>0.511745</td>\n",
              "      <td>-0.532394</td>\n",
              "      <td>1.000000</td>\n",
              "      <td>0.481836</td>\n",
              "      <td>0.401496</td>\n",
              "      <td>0.408716</td>\n",
              "      <td>0.616757</td>\n",
              "      <td>-0.755098</td>\n",
              "      <td>-0.198960</td>\n",
              "      <td>0.105309</td>\n",
              "      <td>-0.634315</td>\n",
              "      <td>-0.568490</td>\n",
              "    </tr>\n",
              "    <tr>\n",
              "      <th>OBP</th>\n",
              "      <td>0.374354</td>\n",
              "      <td>0.900492</td>\n",
              "      <td>0.326360</td>\n",
              "      <td>0.481836</td>\n",
              "      <td>1.000000</td>\n",
              "      <td>0.790910</td>\n",
              "      <td>0.851958</td>\n",
              "      <td>0.363890</td>\n",
              "      <td>0.001612</td>\n",
              "      <td>0.175349</td>\n",
              "      <td>0.016563</td>\n",
              "      <td>0.120349</td>\n",
              "      <td>0.153372</td>\n",
              "    </tr>\n",
              "    <tr>\n",
              "      <th>SLG</th>\n",
              "      <td>0.536037</td>\n",
              "      <td>0.918740</td>\n",
              "      <td>0.436527</td>\n",
              "      <td>0.401496</td>\n",
              "      <td>0.790910</td>\n",
              "      <td>1.000000</td>\n",
              "      <td>0.790481</td>\n",
              "      <td>0.324713</td>\n",
              "      <td>0.126663</td>\n",
              "      <td>0.271893</td>\n",
              "      <td>0.036770</td>\n",
              "      <td>0.143861</td>\n",
              "      <td>0.210423</td>\n",
              "    </tr>\n",
              "    <tr>\n",
              "      <th>BA</th>\n",
              "      <td>0.349397</td>\n",
              "      <td>0.827000</td>\n",
              "      <td>0.330764</td>\n",
              "      <td>0.408716</td>\n",
              "      <td>0.851958</td>\n",
              "      <td>0.790481</td>\n",
              "      <td>1.000000</td>\n",
              "      <td>0.290217</td>\n",
              "      <td>0.035452</td>\n",
              "      <td>0.092684</td>\n",
              "      <td>0.019886</td>\n",
              "      <td>0.187108</td>\n",
              "      <td>0.227808</td>\n",
              "    </tr>\n",
              "    <tr>\n",
              "      <th>Playoffs</th>\n",
              "      <td>0.145779</td>\n",
              "      <td>0.386628</td>\n",
              "      <td>-0.261477</td>\n",
              "      <td>0.616757</td>\n",
              "      <td>0.363890</td>\n",
              "      <td>0.324713</td>\n",
              "      <td>0.290217</td>\n",
              "      <td>1.000000</td>\n",
              "      <td>NaN</td>\n",
              "      <td>NaN</td>\n",
              "      <td>0.022208</td>\n",
              "      <td>-0.433572</td>\n",
              "      <td>-0.366744</td>\n",
              "    </tr>\n",
              "    <tr>\n",
              "      <th>RankSeason</th>\n",
              "      <td>0.385219</td>\n",
              "      <td>-0.027687</td>\n",
              "      <td>0.399141</td>\n",
              "      <td>-0.755098</td>\n",
              "      <td>0.001612</td>\n",
              "      <td>0.126663</td>\n",
              "      <td>0.035452</td>\n",
              "      <td>NaN</td>\n",
              "      <td>1.000000</td>\n",
              "      <td>0.266906</td>\n",
              "      <td>0.069222</td>\n",
              "      <td>0.097731</td>\n",
              "      <td>0.050111</td>\n",
              "    </tr>\n",
              "    <tr>\n",
              "      <th>RankPlayoffs</th>\n",
              "      <td>0.443967</td>\n",
              "      <td>0.210963</td>\n",
              "      <td>0.315128</td>\n",
              "      <td>-0.198960</td>\n",
              "      <td>0.175349</td>\n",
              "      <td>0.271893</td>\n",
              "      <td>0.092684</td>\n",
              "      <td>NaN</td>\n",
              "      <td>0.266906</td>\n",
              "      <td>1.000000</td>\n",
              "      <td>0.007820</td>\n",
              "      <td>0.065808</td>\n",
              "      <td>0.087089</td>\n",
              "    </tr>\n",
              "    <tr>\n",
              "      <th>G</th>\n",
              "      <td>0.009287</td>\n",
              "      <td>0.075195</td>\n",
              "      <td>-0.023369</td>\n",
              "      <td>0.105309</td>\n",
              "      <td>0.016563</td>\n",
              "      <td>0.036770</td>\n",
              "      <td>0.019886</td>\n",
              "      <td>0.022208</td>\n",
              "      <td>0.069222</td>\n",
              "      <td>0.007820</td>\n",
              "      <td>1.000000</td>\n",
              "      <td>-0.077055</td>\n",
              "      <td>-0.004188</td>\n",
              "    </tr>\n",
              "    <tr>\n",
              "      <th>OOBP</th>\n",
              "      <td>-0.371869</td>\n",
              "      <td>0.133981</td>\n",
              "      <td>0.910344</td>\n",
              "      <td>-0.634315</td>\n",
              "      <td>0.120349</td>\n",
              "      <td>0.143861</td>\n",
              "      <td>0.187108</td>\n",
              "      <td>-0.433572</td>\n",
              "      <td>0.097731</td>\n",
              "      <td>0.065808</td>\n",
              "      <td>-0.077055</td>\n",
              "      <td>1.000000</td>\n",
              "      <td>0.830902</td>\n",
              "    </tr>\n",
              "    <tr>\n",
              "      <th>OSLG</th>\n",
              "      <td>-0.345667</td>\n",
              "      <td>0.193426</td>\n",
              "      <td>0.909319</td>\n",
              "      <td>-0.568490</td>\n",
              "      <td>0.153372</td>\n",
              "      <td>0.210423</td>\n",
              "      <td>0.227808</td>\n",
              "      <td>-0.366744</td>\n",
              "      <td>0.050111</td>\n",
              "      <td>0.087089</td>\n",
              "      <td>-0.004188</td>\n",
              "      <td>0.830902</td>\n",
              "      <td>1.000000</td>\n",
              "    </tr>\n",
              "  </tbody>\n",
              "</table>\n",
              "</div>"
            ],
            "text/plain": [
              "                  Year        RS        RA  ...         G      OOBP      OSLG\n",
              "Year          1.000000  0.418978  0.412020  ...  0.009287 -0.371869 -0.345667\n",
              "RS            0.418978  1.000000  0.380139  ...  0.075195  0.133981  0.193426\n",
              "RA            0.412020  0.380139  1.000000  ... -0.023369  0.910344  0.909319\n",
              "W             0.004138  0.511745 -0.532394  ...  0.105309 -0.634315 -0.568490\n",
              "OBP           0.374354  0.900492  0.326360  ...  0.016563  0.120349  0.153372\n",
              "SLG           0.536037  0.918740  0.436527  ...  0.036770  0.143861  0.210423\n",
              "BA            0.349397  0.827000  0.330764  ...  0.019886  0.187108  0.227808\n",
              "Playoffs      0.145779  0.386628 -0.261477  ...  0.022208 -0.433572 -0.366744\n",
              "RankSeason    0.385219 -0.027687  0.399141  ...  0.069222  0.097731  0.050111\n",
              "RankPlayoffs  0.443967  0.210963  0.315128  ...  0.007820  0.065808  0.087089\n",
              "G             0.009287  0.075195 -0.023369  ...  1.000000 -0.077055 -0.004188\n",
              "OOBP         -0.371869  0.133981  0.910344  ... -0.077055  1.000000  0.830902\n",
              "OSLG         -0.345667  0.193426  0.909319  ... -0.004188  0.830902  1.000000\n",
              "\n",
              "[13 rows x 13 columns]"
            ]
          },
          "metadata": {
            "tags": []
          },
          "execution_count": 10
        }
      ]
    },
    {
      "cell_type": "code",
      "metadata": {
        "colab_type": "code",
        "id": "K1qhV-SpG936",
        "outputId": "7d30d522-bdce-4e0f-dc81-6ea2d03d794c",
        "colab": {
          "base_uri": "https://localhost:8080/",
          "height": 195
        }
      },
      "source": [
        "df['RD']=df['RS']-df['RA']\n",
        "df.head()"
      ],
      "execution_count": 11,
      "outputs": [
        {
          "output_type": "execute_result",
          "data": {
            "text/html": [
              "<div>\n",
              "<style scoped>\n",
              "    .dataframe tbody tr th:only-of-type {\n",
              "        vertical-align: middle;\n",
              "    }\n",
              "\n",
              "    .dataframe tbody tr th {\n",
              "        vertical-align: top;\n",
              "    }\n",
              "\n",
              "    .dataframe thead th {\n",
              "        text-align: right;\n",
              "    }\n",
              "</style>\n",
              "<table border=\"1\" class=\"dataframe\">\n",
              "  <thead>\n",
              "    <tr style=\"text-align: right;\">\n",
              "      <th></th>\n",
              "      <th>Team</th>\n",
              "      <th>League</th>\n",
              "      <th>Year</th>\n",
              "      <th>RS</th>\n",
              "      <th>RA</th>\n",
              "      <th>W</th>\n",
              "      <th>OBP</th>\n",
              "      <th>SLG</th>\n",
              "      <th>BA</th>\n",
              "      <th>Playoffs</th>\n",
              "      <th>RankSeason</th>\n",
              "      <th>RankPlayoffs</th>\n",
              "      <th>G</th>\n",
              "      <th>OOBP</th>\n",
              "      <th>OSLG</th>\n",
              "      <th>RD</th>\n",
              "    </tr>\n",
              "  </thead>\n",
              "  <tbody>\n",
              "    <tr>\n",
              "      <th>0</th>\n",
              "      <td>ARI</td>\n",
              "      <td>NL</td>\n",
              "      <td>2012</td>\n",
              "      <td>734</td>\n",
              "      <td>688</td>\n",
              "      <td>81</td>\n",
              "      <td>0.328</td>\n",
              "      <td>0.418</td>\n",
              "      <td>0.259</td>\n",
              "      <td>0</td>\n",
              "      <td>NaN</td>\n",
              "      <td>NaN</td>\n",
              "      <td>162</td>\n",
              "      <td>0.317</td>\n",
              "      <td>0.415</td>\n",
              "      <td>46</td>\n",
              "    </tr>\n",
              "    <tr>\n",
              "      <th>1</th>\n",
              "      <td>ATL</td>\n",
              "      <td>NL</td>\n",
              "      <td>2012</td>\n",
              "      <td>700</td>\n",
              "      <td>600</td>\n",
              "      <td>94</td>\n",
              "      <td>0.320</td>\n",
              "      <td>0.389</td>\n",
              "      <td>0.247</td>\n",
              "      <td>1</td>\n",
              "      <td>4.0</td>\n",
              "      <td>5.0</td>\n",
              "      <td>162</td>\n",
              "      <td>0.306</td>\n",
              "      <td>0.378</td>\n",
              "      <td>100</td>\n",
              "    </tr>\n",
              "    <tr>\n",
              "      <th>2</th>\n",
              "      <td>BAL</td>\n",
              "      <td>AL</td>\n",
              "      <td>2012</td>\n",
              "      <td>712</td>\n",
              "      <td>705</td>\n",
              "      <td>93</td>\n",
              "      <td>0.311</td>\n",
              "      <td>0.417</td>\n",
              "      <td>0.247</td>\n",
              "      <td>1</td>\n",
              "      <td>5.0</td>\n",
              "      <td>4.0</td>\n",
              "      <td>162</td>\n",
              "      <td>0.315</td>\n",
              "      <td>0.403</td>\n",
              "      <td>7</td>\n",
              "    </tr>\n",
              "    <tr>\n",
              "      <th>3</th>\n",
              "      <td>BOS</td>\n",
              "      <td>AL</td>\n",
              "      <td>2012</td>\n",
              "      <td>734</td>\n",
              "      <td>806</td>\n",
              "      <td>69</td>\n",
              "      <td>0.315</td>\n",
              "      <td>0.415</td>\n",
              "      <td>0.260</td>\n",
              "      <td>0</td>\n",
              "      <td>NaN</td>\n",
              "      <td>NaN</td>\n",
              "      <td>162</td>\n",
              "      <td>0.331</td>\n",
              "      <td>0.428</td>\n",
              "      <td>-72</td>\n",
              "    </tr>\n",
              "    <tr>\n",
              "      <th>4</th>\n",
              "      <td>CHC</td>\n",
              "      <td>NL</td>\n",
              "      <td>2012</td>\n",
              "      <td>613</td>\n",
              "      <td>759</td>\n",
              "      <td>61</td>\n",
              "      <td>0.302</td>\n",
              "      <td>0.378</td>\n",
              "      <td>0.240</td>\n",
              "      <td>0</td>\n",
              "      <td>NaN</td>\n",
              "      <td>NaN</td>\n",
              "      <td>162</td>\n",
              "      <td>0.335</td>\n",
              "      <td>0.424</td>\n",
              "      <td>-146</td>\n",
              "    </tr>\n",
              "  </tbody>\n",
              "</table>\n",
              "</div>"
            ],
            "text/plain": [
              "  Team League  Year   RS   RA  ...  RankPlayoffs    G   OOBP   OSLG   RD\n",
              "0  ARI     NL  2012  734  688  ...           NaN  162  0.317  0.415   46\n",
              "1  ATL     NL  2012  700  600  ...           5.0  162  0.306  0.378  100\n",
              "2  BAL     AL  2012  712  705  ...           4.0  162  0.315  0.403    7\n",
              "3  BOS     AL  2012  734  806  ...           NaN  162  0.331  0.428  -72\n",
              "4  CHC     NL  2012  613  759  ...           NaN  162  0.335  0.424 -146\n",
              "\n",
              "[5 rows x 16 columns]"
            ]
          },
          "metadata": {
            "tags": []
          },
          "execution_count": 11
        }
      ]
    },
    {
      "cell_type": "code",
      "metadata": {
        "colab_type": "code",
        "id": "pkJU8iexJB_W",
        "outputId": "e836a405-b583-45c4-bad5-9e1cb7114d22",
        "colab": {
          "base_uri": "https://localhost:8080/",
          "height": 462
        }
      },
      "source": [
        "df.corr()"
      ],
      "execution_count": 12,
      "outputs": [
        {
          "output_type": "execute_result",
          "data": {
            "text/html": [
              "<div>\n",
              "<style scoped>\n",
              "    .dataframe tbody tr th:only-of-type {\n",
              "        vertical-align: middle;\n",
              "    }\n",
              "\n",
              "    .dataframe tbody tr th {\n",
              "        vertical-align: top;\n",
              "    }\n",
              "\n",
              "    .dataframe thead th {\n",
              "        text-align: right;\n",
              "    }\n",
              "</style>\n",
              "<table border=\"1\" class=\"dataframe\">\n",
              "  <thead>\n",
              "    <tr style=\"text-align: right;\">\n",
              "      <th></th>\n",
              "      <th>Year</th>\n",
              "      <th>RS</th>\n",
              "      <th>RA</th>\n",
              "      <th>W</th>\n",
              "      <th>OBP</th>\n",
              "      <th>SLG</th>\n",
              "      <th>BA</th>\n",
              "      <th>Playoffs</th>\n",
              "      <th>RankSeason</th>\n",
              "      <th>RankPlayoffs</th>\n",
              "      <th>G</th>\n",
              "      <th>OOBP</th>\n",
              "      <th>OSLG</th>\n",
              "      <th>RD</th>\n",
              "    </tr>\n",
              "  </thead>\n",
              "  <tbody>\n",
              "    <tr>\n",
              "      <th>Year</th>\n",
              "      <td>1.000000e+00</td>\n",
              "      <td>0.418978</td>\n",
              "      <td>0.412020</td>\n",
              "      <td>0.004138</td>\n",
              "      <td>0.374354</td>\n",
              "      <td>0.536037</td>\n",
              "      <td>0.349397</td>\n",
              "      <td>0.145779</td>\n",
              "      <td>0.385219</td>\n",
              "      <td>0.443967</td>\n",
              "      <td>0.009287</td>\n",
              "      <td>-0.371869</td>\n",
              "      <td>-0.345667</td>\n",
              "      <td>2.182660e-18</td>\n",
              "    </tr>\n",
              "    <tr>\n",
              "      <th>RS</th>\n",
              "      <td>4.189775e-01</td>\n",
              "      <td>1.000000</td>\n",
              "      <td>0.380139</td>\n",
              "      <td>0.511745</td>\n",
              "      <td>0.900492</td>\n",
              "      <td>0.918740</td>\n",
              "      <td>0.827000</td>\n",
              "      <td>0.386628</td>\n",
              "      <td>-0.027687</td>\n",
              "      <td>0.210963</td>\n",
              "      <td>0.075195</td>\n",
              "      <td>0.133981</td>\n",
              "      <td>0.193426</td>\n",
              "      <td>5.462938e-01</td>\n",
              "    </tr>\n",
              "    <tr>\n",
              "      <th>RA</th>\n",
              "      <td>4.120202e-01</td>\n",
              "      <td>0.380139</td>\n",
              "      <td>1.000000</td>\n",
              "      <td>-0.532394</td>\n",
              "      <td>0.326360</td>\n",
              "      <td>0.436527</td>\n",
              "      <td>0.330764</td>\n",
              "      <td>-0.261477</td>\n",
              "      <td>0.399141</td>\n",
              "      <td>0.315128</td>\n",
              "      <td>-0.023369</td>\n",
              "      <td>0.910344</td>\n",
              "      <td>0.909319</td>\n",
              "      <td>-5.670477e-01</td>\n",
              "    </tr>\n",
              "    <tr>\n",
              "      <th>W</th>\n",
              "      <td>4.138248e-03</td>\n",
              "      <td>0.511745</td>\n",
              "      <td>-0.532394</td>\n",
              "      <td>1.000000</td>\n",
              "      <td>0.481836</td>\n",
              "      <td>0.401496</td>\n",
              "      <td>0.408716</td>\n",
              "      <td>0.616757</td>\n",
              "      <td>-0.755098</td>\n",
              "      <td>-0.198960</td>\n",
              "      <td>0.105309</td>\n",
              "      <td>-0.634315</td>\n",
              "      <td>-0.568490</td>\n",
              "      <td>9.378511e-01</td>\n",
              "    </tr>\n",
              "    <tr>\n",
              "      <th>OBP</th>\n",
              "      <td>3.743545e-01</td>\n",
              "      <td>0.900492</td>\n",
              "      <td>0.326360</td>\n",
              "      <td>0.481836</td>\n",
              "      <td>1.000000</td>\n",
              "      <td>0.790910</td>\n",
              "      <td>0.851958</td>\n",
              "      <td>0.363890</td>\n",
              "      <td>0.001612</td>\n",
              "      <td>0.175349</td>\n",
              "      <td>0.016563</td>\n",
              "      <td>0.120349</td>\n",
              "      <td>0.153372</td>\n",
              "      <td>5.063794e-01</td>\n",
              "    </tr>\n",
              "    <tr>\n",
              "      <th>SLG</th>\n",
              "      <td>5.360371e-01</td>\n",
              "      <td>0.918740</td>\n",
              "      <td>0.436527</td>\n",
              "      <td>0.401496</td>\n",
              "      <td>0.790910</td>\n",
              "      <td>1.000000</td>\n",
              "      <td>0.790481</td>\n",
              "      <td>0.324713</td>\n",
              "      <td>0.126663</td>\n",
              "      <td>0.271893</td>\n",
              "      <td>0.036770</td>\n",
              "      <td>0.143861</td>\n",
              "      <td>0.210423</td>\n",
              "      <td>4.228647e-01</td>\n",
              "    </tr>\n",
              "    <tr>\n",
              "      <th>BA</th>\n",
              "      <td>3.493972e-01</td>\n",
              "      <td>0.827000</td>\n",
              "      <td>0.330764</td>\n",
              "      <td>0.408716</td>\n",
              "      <td>0.851958</td>\n",
              "      <td>0.790481</td>\n",
              "      <td>1.000000</td>\n",
              "      <td>0.290217</td>\n",
              "      <td>0.035452</td>\n",
              "      <td>0.092684</td>\n",
              "      <td>0.019886</td>\n",
              "      <td>0.187108</td>\n",
              "      <td>0.227808</td>\n",
              "      <td>4.369427e-01</td>\n",
              "    </tr>\n",
              "    <tr>\n",
              "      <th>Playoffs</th>\n",
              "      <td>1.457787e-01</td>\n",
              "      <td>0.386628</td>\n",
              "      <td>-0.261477</td>\n",
              "      <td>0.616757</td>\n",
              "      <td>0.363890</td>\n",
              "      <td>0.324713</td>\n",
              "      <td>0.290217</td>\n",
              "      <td>1.000000</td>\n",
              "      <td>NaN</td>\n",
              "      <td>NaN</td>\n",
              "      <td>0.022208</td>\n",
              "      <td>-0.433572</td>\n",
              "      <td>-0.366744</td>\n",
              "      <td>5.810944e-01</td>\n",
              "    </tr>\n",
              "    <tr>\n",
              "      <th>RankSeason</th>\n",
              "      <td>3.852191e-01</td>\n",
              "      <td>-0.027687</td>\n",
              "      <td>0.399141</td>\n",
              "      <td>-0.755098</td>\n",
              "      <td>0.001612</td>\n",
              "      <td>0.126663</td>\n",
              "      <td>0.035452</td>\n",
              "      <td>NaN</td>\n",
              "      <td>1.000000</td>\n",
              "      <td>0.266906</td>\n",
              "      <td>0.069222</td>\n",
              "      <td>0.097731</td>\n",
              "      <td>0.050111</td>\n",
              "      <td>-5.806451e-01</td>\n",
              "    </tr>\n",
              "    <tr>\n",
              "      <th>RankPlayoffs</th>\n",
              "      <td>4.439670e-01</td>\n",
              "      <td>0.210963</td>\n",
              "      <td>0.315128</td>\n",
              "      <td>-0.198960</td>\n",
              "      <td>0.175349</td>\n",
              "      <td>0.271893</td>\n",
              "      <td>0.092684</td>\n",
              "      <td>NaN</td>\n",
              "      <td>0.266906</td>\n",
              "      <td>1.000000</td>\n",
              "      <td>0.007820</td>\n",
              "      <td>0.065808</td>\n",
              "      <td>0.087089</td>\n",
              "      <td>-1.312351e-01</td>\n",
              "    </tr>\n",
              "    <tr>\n",
              "      <th>G</th>\n",
              "      <td>9.286806e-03</td>\n",
              "      <td>0.075195</td>\n",
              "      <td>-0.023369</td>\n",
              "      <td>0.105309</td>\n",
              "      <td>0.016563</td>\n",
              "      <td>0.036770</td>\n",
              "      <td>0.019886</td>\n",
              "      <td>0.022208</td>\n",
              "      <td>0.069222</td>\n",
              "      <td>0.007820</td>\n",
              "      <td>1.000000</td>\n",
              "      <td>-0.077055</td>\n",
              "      <td>-0.004188</td>\n",
              "      <td>8.812638e-02</td>\n",
              "    </tr>\n",
              "    <tr>\n",
              "      <th>OOBP</th>\n",
              "      <td>-3.718695e-01</td>\n",
              "      <td>0.133981</td>\n",
              "      <td>0.910344</td>\n",
              "      <td>-0.634315</td>\n",
              "      <td>0.120349</td>\n",
              "      <td>0.143861</td>\n",
              "      <td>0.187108</td>\n",
              "      <td>-0.433572</td>\n",
              "      <td>0.097731</td>\n",
              "      <td>0.065808</td>\n",
              "      <td>-0.077055</td>\n",
              "      <td>1.000000</td>\n",
              "      <td>0.830902</td>\n",
              "      <td>-6.328714e-01</td>\n",
              "    </tr>\n",
              "    <tr>\n",
              "      <th>OSLG</th>\n",
              "      <td>-3.456670e-01</td>\n",
              "      <td>0.193426</td>\n",
              "      <td>0.909319</td>\n",
              "      <td>-0.568490</td>\n",
              "      <td>0.153372</td>\n",
              "      <td>0.210423</td>\n",
              "      <td>0.227808</td>\n",
              "      <td>-0.366744</td>\n",
              "      <td>0.050111</td>\n",
              "      <td>0.087089</td>\n",
              "      <td>-0.004188</td>\n",
              "      <td>0.830902</td>\n",
              "      <td>1.000000</td>\n",
              "      <td>-5.862272e-01</td>\n",
              "    </tr>\n",
              "    <tr>\n",
              "      <th>RD</th>\n",
              "      <td>2.182660e-18</td>\n",
              "      <td>0.546294</td>\n",
              "      <td>-0.567048</td>\n",
              "      <td>0.937851</td>\n",
              "      <td>0.506379</td>\n",
              "      <td>0.422865</td>\n",
              "      <td>0.436943</td>\n",
              "      <td>0.581094</td>\n",
              "      <td>-0.580645</td>\n",
              "      <td>-0.131235</td>\n",
              "      <td>0.088126</td>\n",
              "      <td>-0.632871</td>\n",
              "      <td>-0.586227</td>\n",
              "      <td>1.000000e+00</td>\n",
              "    </tr>\n",
              "  </tbody>\n",
              "</table>\n",
              "</div>"
            ],
            "text/plain": [
              "                      Year        RS  ...      OSLG            RD\n",
              "Year          1.000000e+00  0.418978  ... -0.345667  2.182660e-18\n",
              "RS            4.189775e-01  1.000000  ...  0.193426  5.462938e-01\n",
              "RA            4.120202e-01  0.380139  ...  0.909319 -5.670477e-01\n",
              "W             4.138248e-03  0.511745  ... -0.568490  9.378511e-01\n",
              "OBP           3.743545e-01  0.900492  ...  0.153372  5.063794e-01\n",
              "SLG           5.360371e-01  0.918740  ...  0.210423  4.228647e-01\n",
              "BA            3.493972e-01  0.827000  ...  0.227808  4.369427e-01\n",
              "Playoffs      1.457787e-01  0.386628  ... -0.366744  5.810944e-01\n",
              "RankSeason    3.852191e-01 -0.027687  ...  0.050111 -5.806451e-01\n",
              "RankPlayoffs  4.439670e-01  0.210963  ...  0.087089 -1.312351e-01\n",
              "G             9.286806e-03  0.075195  ... -0.004188  8.812638e-02\n",
              "OOBP         -3.718695e-01  0.133981  ...  0.830902 -6.328714e-01\n",
              "OSLG         -3.456670e-01  0.193426  ...  1.000000 -5.862272e-01\n",
              "RD            2.182660e-18  0.546294  ... -0.586227  1.000000e+00\n",
              "\n",
              "[14 rows x 14 columns]"
            ]
          },
          "metadata": {
            "tags": []
          },
          "execution_count": 12
        }
      ]
    },
    {
      "cell_type": "markdown",
      "metadata": {
        "colab_type": "text",
        "id": "LaAq7TfSzqWv"
      },
      "source": [
        ""
      ]
    },
    {
      "cell_type": "code",
      "metadata": {
        "colab_type": "code",
        "id": "It8KmjkoIt4p",
        "outputId": "2ec0f884-3c01-40f4-eca7-9439504a100b",
        "colab": {
          "base_uri": "https://localhost:8080/",
          "height": 34
        }
      },
      "source": [
        "#To replicate the data prior to 2002 season\n",
        "df1=df[df['Year']<2002]\n",
        "df1.shape"
      ],
      "execution_count": 13,
      "outputs": [
        {
          "output_type": "execute_result",
          "data": {
            "text/plain": [
              "(902, 16)"
            ]
          },
          "metadata": {
            "tags": []
          },
          "execution_count": 13
        }
      ]
    },
    {
      "cell_type": "code",
      "metadata": {
        "colab_type": "code",
        "id": "DFNKJcKzJVWh",
        "outputId": "6e463b0a-099f-407f-e911-0046a8e2dd7b",
        "colab": {
          "base_uri": "https://localhost:8080/",
          "height": 462
        }
      },
      "source": [
        "df1.corr()"
      ],
      "execution_count": 14,
      "outputs": [
        {
          "output_type": "execute_result",
          "data": {
            "text/html": [
              "<div>\n",
              "<style scoped>\n",
              "    .dataframe tbody tr th:only-of-type {\n",
              "        vertical-align: middle;\n",
              "    }\n",
              "\n",
              "    .dataframe tbody tr th {\n",
              "        vertical-align: top;\n",
              "    }\n",
              "\n",
              "    .dataframe thead th {\n",
              "        text-align: right;\n",
              "    }\n",
              "</style>\n",
              "<table border=\"1\" class=\"dataframe\">\n",
              "  <thead>\n",
              "    <tr style=\"text-align: right;\">\n",
              "      <th></th>\n",
              "      <th>Year</th>\n",
              "      <th>RS</th>\n",
              "      <th>RA</th>\n",
              "      <th>W</th>\n",
              "      <th>OBP</th>\n",
              "      <th>SLG</th>\n",
              "      <th>BA</th>\n",
              "      <th>Playoffs</th>\n",
              "      <th>RankSeason</th>\n",
              "      <th>RankPlayoffs</th>\n",
              "      <th>G</th>\n",
              "      <th>OOBP</th>\n",
              "      <th>OSLG</th>\n",
              "      <th>RD</th>\n",
              "    </tr>\n",
              "  </thead>\n",
              "  <tbody>\n",
              "    <tr>\n",
              "      <th>Year</th>\n",
              "      <td>1.000000e+00</td>\n",
              "      <td>0.485502</td>\n",
              "      <td>0.483072</td>\n",
              "      <td>0.002756</td>\n",
              "      <td>0.474799</td>\n",
              "      <td>0.517828</td>\n",
              "      <td>0.438729</td>\n",
              "      <td>0.113014</td>\n",
              "      <td>0.415645</td>\n",
              "      <td>0.426403</td>\n",
              "      <td>-0.027085</td>\n",
              "      <td>-0.335533</td>\n",
              "      <td>-0.122668</td>\n",
              "      <td>-4.316055e-19</td>\n",
              "    </tr>\n",
              "    <tr>\n",
              "      <th>RS</th>\n",
              "      <td>4.855023e-01</td>\n",
              "      <td>1.000000</td>\n",
              "      <td>0.415014</td>\n",
              "      <td>0.507382</td>\n",
              "      <td>0.904909</td>\n",
              "      <td>0.926384</td>\n",
              "      <td>0.831625</td>\n",
              "      <td>0.371631</td>\n",
              "      <td>0.135743</td>\n",
              "      <td>0.323624</td>\n",
              "      <td>0.056206</td>\n",
              "      <td>0.091057</td>\n",
              "      <td>0.039787</td>\n",
              "      <td>5.375395e-01</td>\n",
              "    </tr>\n",
              "    <tr>\n",
              "      <th>RA</th>\n",
              "      <td>4.830717e-01</td>\n",
              "      <td>0.415014</td>\n",
              "      <td>1.000000</td>\n",
              "      <td>-0.507772</td>\n",
              "      <td>0.367105</td>\n",
              "      <td>0.459514</td>\n",
              "      <td>0.350411</td>\n",
              "      <td>-0.241213</td>\n",
              "      <td>0.539387</td>\n",
              "      <td>0.382416</td>\n",
              "      <td>-0.037402</td>\n",
              "      <td>0.909908</td>\n",
              "      <td>0.895110</td>\n",
              "      <td>-5.441052e-01</td>\n",
              "    </tr>\n",
              "    <tr>\n",
              "      <th>W</th>\n",
              "      <td>2.755645e-03</td>\n",
              "      <td>0.507382</td>\n",
              "      <td>-0.507772</td>\n",
              "      <td>1.000000</td>\n",
              "      <td>0.474080</td>\n",
              "      <td>0.405972</td>\n",
              "      <td>0.416391</td>\n",
              "      <td>0.588978</td>\n",
              "      <td>-0.747960</td>\n",
              "      <td>-0.235038</td>\n",
              "      <td>0.108128</td>\n",
              "      <td>-0.633657</td>\n",
              "      <td>-0.646920</td>\n",
              "      <td>9.385150e-01</td>\n",
              "    </tr>\n",
              "    <tr>\n",
              "      <th>OBP</th>\n",
              "      <td>4.747989e-01</td>\n",
              "      <td>0.904909</td>\n",
              "      <td>0.367105</td>\n",
              "      <td>0.474080</td>\n",
              "      <td>1.000000</td>\n",
              "      <td>0.806154</td>\n",
              "      <td>0.854055</td>\n",
              "      <td>0.345530</td>\n",
              "      <td>0.146153</td>\n",
              "      <td>0.300446</td>\n",
              "      <td>-0.003827</td>\n",
              "      <td>0.052899</td>\n",
              "      <td>-0.008316</td>\n",
              "      <td>4.942505e-01</td>\n",
              "    </tr>\n",
              "    <tr>\n",
              "      <th>SLG</th>\n",
              "      <td>5.178276e-01</td>\n",
              "      <td>0.926384</td>\n",
              "      <td>0.459514</td>\n",
              "      <td>0.405972</td>\n",
              "      <td>0.806154</td>\n",
              "      <td>1.000000</td>\n",
              "      <td>0.814068</td>\n",
              "      <td>0.300191</td>\n",
              "      <td>0.217315</td>\n",
              "      <td>0.341013</td>\n",
              "      <td>0.012873</td>\n",
              "      <td>0.101632</td>\n",
              "      <td>0.080376</td>\n",
              "      <td>4.284077e-01</td>\n",
              "    </tr>\n",
              "    <tr>\n",
              "      <th>BA</th>\n",
              "      <td>4.387291e-01</td>\n",
              "      <td>0.831625</td>\n",
              "      <td>0.350411</td>\n",
              "      <td>0.416391</td>\n",
              "      <td>0.854055</td>\n",
              "      <td>0.814068</td>\n",
              "      <td>1.000000</td>\n",
              "      <td>0.278772</td>\n",
              "      <td>0.156881</td>\n",
              "      <td>0.229791</td>\n",
              "      <td>-0.001805</td>\n",
              "      <td>0.219021</td>\n",
              "      <td>0.231918</td>\n",
              "      <td>4.421417e-01</td>\n",
              "    </tr>\n",
              "    <tr>\n",
              "      <th>Playoffs</th>\n",
              "      <td>1.130136e-01</td>\n",
              "      <td>0.371631</td>\n",
              "      <td>-0.241213</td>\n",
              "      <td>0.588978</td>\n",
              "      <td>0.345530</td>\n",
              "      <td>0.300191</td>\n",
              "      <td>0.278772</td>\n",
              "      <td>1.000000</td>\n",
              "      <td>NaN</td>\n",
              "      <td>NaN</td>\n",
              "      <td>0.009831</td>\n",
              "      <td>-0.495725</td>\n",
              "      <td>-0.510097</td>\n",
              "      <td>5.662745e-01</td>\n",
              "    </tr>\n",
              "    <tr>\n",
              "      <th>RankSeason</th>\n",
              "      <td>4.156449e-01</td>\n",
              "      <td>0.135743</td>\n",
              "      <td>0.539387</td>\n",
              "      <td>-0.747960</td>\n",
              "      <td>0.146153</td>\n",
              "      <td>0.217315</td>\n",
              "      <td>0.156881</td>\n",
              "      <td>NaN</td>\n",
              "      <td>1.000000</td>\n",
              "      <td>0.352961</td>\n",
              "      <td>0.052870</td>\n",
              "      <td>0.141905</td>\n",
              "      <td>0.235886</td>\n",
              "      <td>-5.703690e-01</td>\n",
              "    </tr>\n",
              "    <tr>\n",
              "      <th>RankPlayoffs</th>\n",
              "      <td>4.264030e-01</td>\n",
              "      <td>0.323624</td>\n",
              "      <td>0.382416</td>\n",
              "      <td>-0.235038</td>\n",
              "      <td>0.300446</td>\n",
              "      <td>0.341013</td>\n",
              "      <td>0.229791</td>\n",
              "      <td>NaN</td>\n",
              "      <td>0.352961</td>\n",
              "      <td>1.000000</td>\n",
              "      <td>0.012394</td>\n",
              "      <td>0.299376</td>\n",
              "      <td>0.318576</td>\n",
              "      <td>-7.677988e-02</td>\n",
              "    </tr>\n",
              "    <tr>\n",
              "      <th>G</th>\n",
              "      <td>-2.708490e-02</td>\n",
              "      <td>0.056206</td>\n",
              "      <td>-0.037402</td>\n",
              "      <td>0.108128</td>\n",
              "      <td>-0.003827</td>\n",
              "      <td>0.012873</td>\n",
              "      <td>-0.001805</td>\n",
              "      <td>0.009831</td>\n",
              "      <td>0.052870</td>\n",
              "      <td>0.012394</td>\n",
              "      <td>1.000000</td>\n",
              "      <td>-0.100545</td>\n",
              "      <td>-0.045432</td>\n",
              "      <td>8.649718e-02</td>\n",
              "    </tr>\n",
              "    <tr>\n",
              "      <th>OOBP</th>\n",
              "      <td>-3.355334e-01</td>\n",
              "      <td>0.091057</td>\n",
              "      <td>0.909908</td>\n",
              "      <td>-0.633657</td>\n",
              "      <td>0.052899</td>\n",
              "      <td>0.101632</td>\n",
              "      <td>0.219021</td>\n",
              "      <td>-0.495725</td>\n",
              "      <td>0.141905</td>\n",
              "      <td>0.299376</td>\n",
              "      <td>-0.100545</td>\n",
              "      <td>1.000000</td>\n",
              "      <td>0.796526</td>\n",
              "      <td>-6.040766e-01</td>\n",
              "    </tr>\n",
              "    <tr>\n",
              "      <th>OSLG</th>\n",
              "      <td>-1.226680e-01</td>\n",
              "      <td>0.039787</td>\n",
              "      <td>0.895110</td>\n",
              "      <td>-0.646920</td>\n",
              "      <td>-0.008316</td>\n",
              "      <td>0.080376</td>\n",
              "      <td>0.231918</td>\n",
              "      <td>-0.510097</td>\n",
              "      <td>0.235886</td>\n",
              "      <td>0.318576</td>\n",
              "      <td>-0.045432</td>\n",
              "      <td>0.796526</td>\n",
              "      <td>1.000000</td>\n",
              "      <td>-6.302315e-01</td>\n",
              "    </tr>\n",
              "    <tr>\n",
              "      <th>RD</th>\n",
              "      <td>-4.316055e-19</td>\n",
              "      <td>0.537539</td>\n",
              "      <td>-0.544105</td>\n",
              "      <td>0.938515</td>\n",
              "      <td>0.494251</td>\n",
              "      <td>0.428408</td>\n",
              "      <td>0.442142</td>\n",
              "      <td>0.566274</td>\n",
              "      <td>-0.570369</td>\n",
              "      <td>-0.076780</td>\n",
              "      <td>0.086497</td>\n",
              "      <td>-0.604077</td>\n",
              "      <td>-0.630231</td>\n",
              "      <td>1.000000e+00</td>\n",
              "    </tr>\n",
              "  </tbody>\n",
              "</table>\n",
              "</div>"
            ],
            "text/plain": [
              "                      Year        RS  ...      OSLG            RD\n",
              "Year          1.000000e+00  0.485502  ... -0.122668 -4.316055e-19\n",
              "RS            4.855023e-01  1.000000  ...  0.039787  5.375395e-01\n",
              "RA            4.830717e-01  0.415014  ...  0.895110 -5.441052e-01\n",
              "W             2.755645e-03  0.507382  ... -0.646920  9.385150e-01\n",
              "OBP           4.747989e-01  0.904909  ... -0.008316  4.942505e-01\n",
              "SLG           5.178276e-01  0.926384  ...  0.080376  4.284077e-01\n",
              "BA            4.387291e-01  0.831625  ...  0.231918  4.421417e-01\n",
              "Playoffs      1.130136e-01  0.371631  ... -0.510097  5.662745e-01\n",
              "RankSeason    4.156449e-01  0.135743  ...  0.235886 -5.703690e-01\n",
              "RankPlayoffs  4.264030e-01  0.323624  ...  0.318576 -7.677988e-02\n",
              "G            -2.708490e-02  0.056206  ... -0.045432  8.649718e-02\n",
              "OOBP         -3.355334e-01  0.091057  ...  0.796526 -6.040766e-01\n",
              "OSLG         -1.226680e-01  0.039787  ...  1.000000 -6.302315e-01\n",
              "RD           -4.316055e-19  0.537539  ... -0.630231  1.000000e+00\n",
              "\n",
              "[14 rows x 14 columns]"
            ]
          },
          "metadata": {
            "tags": []
          },
          "execution_count": 14
        }
      ]
    },
    {
      "cell_type": "code",
      "metadata": {
        "colab_type": "code",
        "id": "nbAcclv7J8j7",
        "outputId": "773ff648-5593-4ede-d222-b0617bcf45f0",
        "colab": {
          "base_uri": "https://localhost:8080/",
          "height": 282
        }
      },
      "source": [
        "#find insights regarding the distributions of the numerical variables\n",
        "df1['RS'].hist(bins=50)"
      ],
      "execution_count": 15,
      "outputs": [
        {
          "output_type": "execute_result",
          "data": {
            "text/plain": [
              "<matplotlib.axes._subplots.AxesSubplot at 0x7f9cd632b3c8>"
            ]
          },
          "metadata": {
            "tags": []
          },
          "execution_count": 15
        },
        {
          "output_type": "display_data",
          "data": {
            "image/png": "[encoded data removed]",
            "text/plain": [
              "<Figure size 432x288 with 1 Axes>"
            ]
          },
          "metadata": {
            "tags": []
          }
        }
      ]
    },
    {
      "cell_type": "code",
      "metadata": {
        "colab_type": "code",
        "id": "RjxX_6f8KPfm",
        "outputId": "44037f16-aaea-4653-ebca-3f7204f385a6",
        "colab": {
          "base_uri": "https://localhost:8080/",
          "height": 282
        }
      },
      "source": [
        "df1['RA'].hist(bins=50)"
      ],
      "execution_count": 16,
      "outputs": [
        {
          "output_type": "execute_result",
          "data": {
            "text/plain": [
              "<matplotlib.axes._subplots.AxesSubplot at 0x7f9cd52f13c8>"
            ]
          },
          "metadata": {
            "tags": []
          },
          "execution_count": 16
        },
        {
          "output_type": "display_data",
          "data": {
            "image/png": "[encoded data removed]",
            "text/plain": [
              "<Figure size 432x288 with 1 Axes>"
            ]
          },
          "metadata": {
            "tags": []
          }
        }
      ]
    },
    {
      "cell_type": "code",
      "metadata": {
        "colab_type": "code",
        "id": "JwwAVxatKavF",
        "outputId": "2a3d5cd9-c5ba-417e-b2bb-6d5e07d087e6",
        "colab": {
          "base_uri": "https://localhost:8080/",
          "height": 282
        }
      },
      "source": [
        "df1['OBP'].hist(bins=50)"
      ],
      "execution_count": 17,
      "outputs": [
        {
          "output_type": "execute_result",
          "data": {
            "text/plain": [
              "<matplotlib.axes._subplots.AxesSubplot at 0x7f9cd52f1a20>"
            ]
          },
          "metadata": {
            "tags": []
          },
          "execution_count": 17
        },
        {
          "output_type": "display_data",
          "data": {
            "image/png": "[encoded data removed]",
            "text/plain": [
              "<Figure size 432x288 with 1 Axes>"
            ]
          },
          "metadata": {
            "tags": []
          }
        }
      ]
    },
    {
      "cell_type": "code",
      "metadata": {
        "colab_type": "code",
        "id": "dKdagsE8KiJh",
        "outputId": "89c80d0c-d091-456e-c9ee-04fce5f96fac",
        "colab": {
          "base_uri": "https://localhost:8080/",
          "height": 282
        }
      },
      "source": [
        "df1['SLG'].hist(bins=50)"
      ],
      "execution_count": 18,
      "outputs": [
        {
          "output_type": "execute_result",
          "data": {
            "text/plain": [
              "<matplotlib.axes._subplots.AxesSubplot at 0x7f9cd506d908>"
            ]
          },
          "metadata": {
            "tags": []
          },
          "execution_count": 18
        },
        {
          "output_type": "display_data",
          "data": {
            "image/png": "[encoded data removed]",
            "text/plain": [
              "<Figure size 432x288 with 1 Axes>"
            ]
          },
          "metadata": {
            "tags": []
          }
        }
      ]
    },
    {
      "cell_type": "code",
      "metadata": {
        "colab_type": "code",
        "id": "NGkpZBbWNlYD",
        "colab": {}
      },
      "source": [
        "df_playoff=df1.groupby('Playoffs')\n",
        "df_playoff_0=df_playoff.get_group(0)\n",
        "df_playoff_1=df_playoff.get_group(1)\n"
      ],
      "execution_count": 0,
      "outputs": []
    },
    {
      "cell_type": "code",
      "metadata": {
        "colab_type": "code",
        "id": "uIrC3SsJNEoh",
        "outputId": "3e99a21d-7cb4-417f-96b3-a50ebd9efc66",
        "colab": {
          "base_uri": "https://localhost:8080/",
          "height": 296
        }
      },
      "source": [
        "# Plotting scatterplotplt.\n",
        "#figure(figsize=(10,8))\n",
        "plt.scatter(x=df_playoff_0.W,y = df_playoff_0.RS,c=\"red\")\n",
        "plt.scatter(x=df_playoff_1.W,y = df_playoff_1.RS,c=\"blue\")\n",
        "plt.xlabel(\"Wins\")\n",
        "plt.ylabel(\"Runs Scored\")\n",
        "plt.axvline(x = 100)"
      ],
      "execution_count": 20,
      "outputs": [
        {
          "output_type": "execute_result",
          "data": {
            "text/plain": [
              "<matplotlib.lines.Line2D at 0x7f9cd5174080>"
            ]
          },
          "metadata": {
            "tags": []
          },
          "execution_count": 20
        },
        {
          "output_type": "display_data",
          "data": {
            "image/png": "[encoded data removed]",
            "text/plain": [
              "<Figure size 432x288 with 1 Axes>"
            ]
          },
          "metadata": {
            "tags": []
          }
        }
      ]
    },
    {
      "cell_type": "markdown",
      "metadata": {
        "colab_type": "text",
        "id": "P7XuTq6YP3aY"
      },
      "source": [
        "From the above plot we see that DePodesta’s estimate of 99 wins makes sense since there appears to be only 3 observations (red) who haven’t made it to the playoffs with ≥ 99 wins."
      ]
    },
    {
      "cell_type": "markdown",
      "metadata": {
        "colab_type": "text",
        "id": "wVyaEeClP55X"
      },
      "source": [
        "DePodesta also calculated that the A’s need to score atleast 814 runs and allow only 645 runs in order to make it to the postseason. That meant that the difference between runs scored and runs allowed needed to be approximately 169(RD). Let us look at the relationship between RD and Wins."
      ]
    },
    {
      "cell_type": "code",
      "metadata": {
        "colab_type": "code",
        "id": "2n51K__PMgh4",
        "outputId": "99000403-4d22-4490-80b9-7a1333b8224b",
        "colab": {
          "base_uri": "https://localhost:8080/",
          "height": 295
        }
      },
      "source": [
        "#figure(figsize=(10,8))\n",
        "x = np.array(df1.RD)\n",
        "y = np.array(df1.W)# Deriving slope,intercept values\n",
        "slope, intercept = np.polyfit(x, y, 1)\n",
        "abline_values = [slope * i + intercept for i in x]#Plotting the figureplt.figure(figsize=(10,8))\n",
        "plt.scatter(x, y)\n",
        "plt.plot(x, abline_values, 'b')\n",
        "plt.title(\"Slope = %s\" % (slope))\n",
        "plt.xlabel(\"Run Difference\")\n",
        "plt.ylabel(\"Wins\")\n",
        "plt.show()"
      ],
      "execution_count": 21,
      "outputs": [
        {
          "output_type": "display_data",
          "data": {
            "image/png": "[encoded data removed]",
            "text/plain": [
              "<Figure size 432x288 with 1 Axes>"
            ]
          },
          "metadata": {
            "tags": []
          }
        }
      ]
    },
    {
      "cell_type": "code",
      "metadata": {
        "colab_type": "code",
        "id": "NZk5F1QOQwBF",
        "outputId": "036b36c6-0e18-4fa0-ed7e-d746a3184b92",
        "colab": {
          "base_uri": "https://localhost:8080/",
          "height": 50
        }
      },
      "source": [
        "print(np.corrcoef(x,y))"
      ],
      "execution_count": 22,
      "outputs": [
        {
          "output_type": "stream",
          "text": [
            "[[1.         0.93851498]\n",
            " [0.93851498 1.        ]]\n"
          ],
          "name": "stdout"
        }
      ]
    },
    {
      "cell_type": "code",
      "metadata": {
        "colab_type": "code",
        "id": "X52crgXGQ0EL",
        "colab": {}
      },
      "source": [
        "#https://en.wikipedia.org/wiki/On-base_percentage\n",
        "#Batting Average = Hits/At Bat"
      ],
      "execution_count": 0,
      "outputs": []
    },
    {
      "cell_type": "markdown",
      "metadata": {
        "colab_type": "text",
        "id": "rarihlekSAQG"
      },
      "source": [
        "OBP, SLG and AVG are strong indicators of runs scored by the particular team.\n",
        "Let us validate these assumptions by plotting the relationship between each of these variables with RS(Runs scored)"
      ]
    },
    {
      "cell_type": "code",
      "metadata": {
        "colab_type": "code",
        "id": "hM_euchWSE1C",
        "outputId": "f90b4f7f-43c6-4a62-e19a-52c1d5b043ec",
        "colab": {
          "base_uri": "https://localhost:8080/",
          "height": 295
        }
      },
      "source": [
        "#figure(figsize=(10,8))\n",
        "x = np.array(df1.OBP)\n",
        "y = np.array(df1.RS)# Deriving slope,intercept values\n",
        "slope, intercept = np.polyfit(x, y, 1)\n",
        "abline_values = [slope * i + intercept for i in x]#Plotting the figureplt.figure(figsize=(10,8))\n",
        "plt.scatter(x, y)\n",
        "plt.plot(x, abline_values, 'b')\n",
        "plt.title(\"Slope = %s\" % (slope))\n",
        "plt.xlabel(\"On Base Percentage\")\n",
        "plt.ylabel(\"Runs Scored\")\n",
        "plt.show()"
      ],
      "execution_count": 25,
      "outputs": [
        {
          "output_type": "display_data",
          "data": {
            "image/png": "[encoded data removed]",
            "text/plain": [
              "<Figure size 432x288 with 1 Axes>"
            ]
          },
          "metadata": {
            "tags": []
          }
        }
      ]
    },
    {
      "cell_type": "code",
      "metadata": {
        "colab_type": "code",
        "id": "v35umEomRppj",
        "outputId": "fcfba39d-7c44-455e-fb72-c2f283acaf36",
        "colab": {
          "base_uri": "https://localhost:8080/",
          "height": 295
        }
      },
      "source": [
        "#figure(figsize=(10,8))\n",
        "x = np.array(df1.SLG)\n",
        "y = np.array(df1.RS)# Deriving slope,intercept values\n",
        "slope, intercept = np.polyfit(x, y, 1)\n",
        "abline_values = [slope * i + intercept for i in x]#Plotting the figureplt.figure(figsize=(10,8))\n",
        "plt.scatter(x, y)\n",
        "plt.plot(x, abline_values, 'b')\n",
        "plt.title(\"Slope = %s\" % (slope))\n",
        "plt.xlabel(\"Slugging Percentage\")\n",
        "plt.ylabel(\"Runs Scored\")\n",
        "plt.show()"
      ],
      "execution_count": 26,
      "outputs": [
        {
          "output_type": "display_data",
          "data": {
            "image/png": "[encoded data removed]",
            "text/plain": [
              "<Figure size 432x288 with 1 Axes>"
            ]
          },
          "metadata": {
            "tags": []
          }
        }
      ]
    },
    {
      "cell_type": "code",
      "metadata": {
        "colab_type": "code",
        "id": "nomGlVioSupl",
        "outputId": "e305dd6f-2ea8-4dc0-fea5-96df1311c937",
        "colab": {
          "base_uri": "https://localhost:8080/",
          "height": 295
        }
      },
      "source": [
        "#figure(figsize=(10,8))\n",
        "x = np.array(df1.BA)\n",
        "y = np.array(df1.RS)# Deriving slope,intercept values\n",
        "slope, intercept = np.polyfit(x, y, 1)\n",
        "abline_values = [slope * i + intercept for i in x]#Plotting the figureplt.figure(figsize=(10,8))\n",
        "plt.scatter(x, y)\n",
        "plt.plot(x, abline_values, 'b')\n",
        "plt.title(\"Slope = %s\" % (slope))\n",
        "plt.xlabel(\"Batting Average\")\n",
        "plt.ylabel(\"Runs Scored\")\n",
        "plt.show()"
      ],
      "execution_count": 27,
      "outputs": [
        {
          "output_type": "display_data",
          "data": {
            "image/png": "[encoded data removed]",
            "text/plain": [
              "<Figure size 432x288 with 1 Axes>"
            ]
          },
          "metadata": {
            "tags": []
          }
        }
      ]
    },
    {
      "cell_type": "code",
      "metadata": {
        "colab_type": "code",
        "id": "JuGkDtjoTIpn",
        "outputId": "4037ebda-4b6f-4339-f95d-1e99d93e1bfb",
        "colab": {
          "base_uri": "https://localhost:8080/",
          "height": 50
        }
      },
      "source": [
        "print(np.corrcoef(df1.OBP,df1.RS))"
      ],
      "execution_count": 28,
      "outputs": [
        {
          "output_type": "stream",
          "text": [
            "[[1.         0.90490915]\n",
            " [0.90490915 1.        ]]\n"
          ],
          "name": "stdout"
        }
      ]
    },
    {
      "cell_type": "code",
      "metadata": {
        "colab_type": "code",
        "id": "TFuj9OJQTNG8",
        "outputId": "2d6046b1-2a09-42e3-ed1b-a5974b11861c",
        "colab": {
          "base_uri": "https://localhost:8080/",
          "height": 50
        }
      },
      "source": [
        "print(np.corrcoef(df1.SLG,df1.RS))"
      ],
      "execution_count": 29,
      "outputs": [
        {
          "output_type": "stream",
          "text": [
            "[[1.         0.92638433]\n",
            " [0.92638433 1.        ]]\n"
          ],
          "name": "stdout"
        }
      ]
    },
    {
      "cell_type": "code",
      "metadata": {
        "colab_type": "code",
        "id": "czB03lpSTTCd",
        "outputId": "4bb1cc0c-f84c-4808-897e-df2e30afbd18",
        "colab": {
          "base_uri": "https://localhost:8080/",
          "height": 50
        }
      },
      "source": [
        "print(np.corrcoef(df1.BA,df1.RS))"
      ],
      "execution_count": 30,
      "outputs": [
        {
          "output_type": "stream",
          "text": [
            "[[1.         0.83162475]\n",
            " [0.83162475 1.        ]]\n"
          ],
          "name": "stdout"
        }
      ]
    },
    {
      "cell_type": "markdown",
      "metadata": {
        "colab_type": "text",
        "id": "P6pTqEg4TgEq"
      },
      "source": [
        "Similarly, we can hypothesise that OOBP(Opponent’s OBP) and OSLG(Opponent’s SLG) have a similar relationship with RA(Runs allowed)."
      ]
    },
    {
      "cell_type": "markdown",
      "metadata": {
        "colab_type": "text",
        "id": "c5W2c047Wd7E"
      },
      "source": [
        "DATA CLEANING: There are a few missing values in the OOBP and OSLG columns. We have to remove these rows of observations in order to plot a proper relationship"
      ]
    },
    {
      "cell_type": "code",
      "metadata": {
        "colab_type": "code",
        "id": "aRI-V64b6WJw",
        "outputId": "fe7592a8-6882-49c1-cdb9-a9165bfbd9b1",
        "colab": {
          "base_uri": "https://localhost:8080/",
          "height": 118
        }
      },
      "source": [
        "for col in df1.columns:\n",
        "  df1[col]=df1[col].fillna(df1[col].dropna().sample().iloc[0])\n",
        "\n",
        "#df2=df1.dropna()\n",
        "#df2.shape\n",
        "\n"
      ],
      "execution_count": 31,
      "outputs": [
        {
          "output_type": "stream",
          "text": [
            "/usr/local/lib/python3.6/dist-packages/ipykernel_launcher.py:2: SettingWithCopyWarning: \n",
            "A value is trying to be set on a copy of a slice from a DataFrame.\n",
            "Try using .loc[row_indexer,col_indexer] = value instead\n",
            "\n",
            "See the caveats in the documentation: http://pandas.pydata.org/pandas-docs/stable/user_guide/indexing.html#returning-a-view-versus-a-copy\n",
            "  \n"
          ],
          "name": "stderr"
        }
      ]
    },
    {
      "cell_type": "markdown",
      "metadata": {
        "colab_type": "text",
        "id": "YYjwa2y-ZLMB"
      },
      "source": [
        "Our first model is used to predict ‘runs scored’. Our independent variables as on-base percentage, slugging percentage, batting average."
      ]
    },
    {
      "cell_type": "code",
      "metadata": {
        "colab_type": "code",
        "id": "-FFYzYR0ZFnG",
        "outputId": "37a3cf35-e023-4c18-e071-a22d4230b767",
        "colab": {
          "base_uri": "https://localhost:8080/",
          "height": 50
        }
      },
      "source": [
        "from sklearn.linear_model import LinearRegression\n",
        "# Extracting our variables from the dataframe.\n",
        "x = df1[['OBP','SLG']].values\n",
        "y = df1[['RS']].values# Calling our model object.\n",
        "RS_model = LinearRegression()# Fitting the model.\n",
        "RS_model.fit(x,y)\n",
        "# Printing model intercept and coefficients.\n",
        "print(RS_model.intercept_)\n",
        "print(RS_model.coef_)"
      ],
      "execution_count": 32,
      "outputs": [
        {
          "output_type": "stream",
          "text": [
            "[-804.62706106]\n",
            "[[2737.76802227 1584.90860546]]\n"
          ],
          "name": "stdout"
        }
      ]
    },
    {
      "cell_type": "code",
      "metadata": {
        "colab_type": "code",
        "id": "UtSHFDJ3HgDD",
        "outputId": "c031fd82-6f9b-4be4-8248-a2df41356550",
        "colab": {
          "base_uri": "https://localhost:8080/",
          "height": 34
        }
      },
      "source": [
        "x.shape"
      ],
      "execution_count": 33,
      "outputs": [
        {
          "output_type": "execute_result",
          "data": {
            "text/plain": [
              "(902, 2)"
            ]
          },
          "metadata": {
            "tags": []
          },
          "execution_count": 33
        }
      ]
    },
    {
      "cell_type": "code",
      "metadata": {
        "colab_type": "code",
        "id": "kFKGqJpmGoEu",
        "colab": {}
      },
      "source": [
        "#rs_pred=RS_model.predict(x)\n"
      ],
      "execution_count": 0,
      "outputs": []
    },
    {
      "cell_type": "code",
      "metadata": {
        "colab_type": "code",
        "id": "7Z-Dm83THlOC",
        "outputId": "2eef2320-c3df-4ed3-a013-1908493f3b66",
        "colab": {
          "base_uri": "https://localhost:8080/",
          "height": 34
        }
      },
      "source": [
        "RS_model.score(x,y)"
      ],
      "execution_count": 34,
      "outputs": [
        {
          "output_type": "execute_result",
          "data": {
            "text/plain": [
              "0.9295810608096599"
            ]
          },
          "metadata": {
            "tags": []
          },
          "execution_count": 34
        }
      ]
    },
    {
      "cell_type": "markdown",
      "metadata": {
        "colab_type": "text",
        "id": "3B_QmN9SaSdP"
      },
      "source": [
        "Thus, our model is of the following form:\n",
        "\n",
        "RS = -804.63+2737.77×(OBP)+1584.91×(SLG)"
      ]
    },
    {
      "cell_type": "markdown",
      "metadata": {
        "colab_type": "text",
        "id": "xAy7HRkWa9lq"
      },
      "source": [
        "Similarly, we build a model for ‘runs allowed’ using opponent’s on-base percentage and opponent’s slugging percentage as independent variables:"
      ]
    },
    {
      "cell_type": "code",
      "metadata": {
        "colab_type": "code",
        "id": "cYB6Pxmpa_ib",
        "outputId": "6b3e8b5a-201f-46de-a25b-f943dc0da53e",
        "colab": {
          "base_uri": "https://localhost:8080/",
          "height": 50
        }
      },
      "source": [
        "# Extracting our variables from the dataframe.\n",
        "x = df1[['OOBP','OSLG']].values\n",
        "y = df1[['RA']].values# Calling our model object.\n",
        "RA_model = LinearRegression()# Fitting the model.\n",
        "RA_model.fit(x,y)# Printing model intercept and coefficients.\n",
        "print(RA_model.intercept_)\n",
        "print(RA_model.coef_)"
      ],
      "execution_count": 35,
      "outputs": [
        {
          "output_type": "stream",
          "text": [
            "[-974.65204347]\n",
            "[[3246.98738682 1558.81567433]]\n"
          ],
          "name": "stdout"
        }
      ]
    },
    {
      "cell_type": "code",
      "metadata": {
        "colab_type": "code",
        "id": "IC1GvPxPIcha",
        "outputId": "7378743e-3665-4a88-e537-0ee80640d117",
        "colab": {
          "base_uri": "https://localhost:8080/",
          "height": 34
        }
      },
      "source": [
        "RA_model.score(x,y)"
      ],
      "execution_count": 36,
      "outputs": [
        {
          "output_type": "execute_result",
          "data": {
            "text/plain": [
              "0.21126568726733352"
            ]
          },
          "metadata": {
            "tags": []
          },
          "execution_count": 36
        }
      ]
    },
    {
      "cell_type": "markdown",
      "metadata": {
        "colab_type": "text",
        "id": "kLi3w1QIbvgF"
      },
      "source": [
        "model for predicting wins from runs difference:"
      ]
    },
    {
      "cell_type": "code",
      "metadata": {
        "colab_type": "code",
        "id": "YJkEIsmLbw5s",
        "outputId": "e0c9340e-bcb0-44cb-e138-91969e51a2fb",
        "colab": {
          "base_uri": "https://localhost:8080/",
          "height": 50
        }
      },
      "source": [
        "# Extracting our variables from the dataframe.\n",
        "x = df1[['RD']].values\n",
        "y = df1[['W']].values# Calling our model object.\n",
        "W_model = LinearRegression()# Fitting the model.\n",
        "W_model.fit(x,y)# Printing model intercept and coefficients.\n",
        "print(W_model.intercept_)\n",
        "print(W_model.coef_)"
      ],
      "execution_count": 37,
      "outputs": [
        {
          "output_type": "stream",
          "text": [
            "[80.88137472]\n",
            "[[0.10576562]]\n"
          ],
          "name": "stdout"
        }
      ]
    },
    {
      "cell_type": "code",
      "metadata": {
        "colab_type": "code",
        "id": "pNUaK2OWIivM",
        "outputId": "874dd982-1923-48f2-b354-5b652f2255fa",
        "colab": {
          "base_uri": "https://localhost:8080/",
          "height": 34
        }
      },
      "source": [
        "W_model.score(x,y)"
      ],
      "execution_count": 38,
      "outputs": [
        {
          "output_type": "execute_result",
          "data": {
            "text/plain": [
              "0.8808103719972755"
            ]
          },
          "metadata": {
            "tags": []
          },
          "execution_count": 38
        }
      ]
    },
    {
      "cell_type": "markdown",
      "metadata": {
        "colab_type": "text",
        "id": "DZjntiq2cdDh"
      },
      "source": [
        "Model Predictions\n",
        "\n",
        "Here are the Oakland Athletics statistics in 2001 before the playoffs.\n",
        "\n",
        "OBP: 0.339\n",
        "\n",
        "SLG: 0.430\n",
        "\n",
        "OOBP: 0.307\n",
        "\n",
        "OSLG: 0.373\n",
        "Lets plug in these values into the above models to generate predictions."
      ]
    },
    {
      "cell_type": "code",
      "metadata": {
        "colab_type": "code",
        "id": "v2bR0Edccjkg",
        "outputId": "8b526f14-afed-4d5c-e890-1c42c7cd1ce8",
        "colab": {
          "base_uri": "https://localhost:8080/",
          "height": 34
        }
      },
      "source": [
        "# Prediction for runs scored.\n",
        "RS_model.predict([[0.339,0.430]])\n"
      ],
      "execution_count": 39,
      "outputs": [
        {
          "output_type": "execute_result",
          "data": {
            "text/plain": [
              "array([[804.98699884]])"
            ]
          },
          "metadata": {
            "tags": []
          },
          "execution_count": 39
        }
      ]
    },
    {
      "cell_type": "code",
      "metadata": {
        "colab_type": "code",
        "id": "lcy6sa-Mcetc",
        "outputId": "e3a7d0b7-cc79-408c-bfa2-7598127b3487",
        "colab": {
          "base_uri": "https://localhost:8080/",
          "height": 34
        }
      },
      "source": [
        "RA_model.predict([[0.307,0.373]])\n"
      ],
      "execution_count": 40,
      "outputs": [
        {
          "output_type": "execute_result",
          "data": {
            "text/plain": [
              "array([[603.6113308]])"
            ]
          },
          "metadata": {
            "tags": []
          },
          "execution_count": 40
        }
      ]
    },
    {
      "cell_type": "code",
      "metadata": {
        "colab_type": "code",
        "id": "xhZH3EUtdJvw",
        "outputId": "53b4599b-f3d3-4eb5-cddd-0bf057183b46",
        "colab": {
          "base_uri": "https://localhost:8080/",
          "height": 34
        }
      },
      "source": [
        "802.44299884-627.63977268"
      ],
      "execution_count": 41,
      "outputs": [
        {
          "output_type": "execute_result",
          "data": {
            "text/plain": [
              "174.80322616"
            ]
          },
          "metadata": {
            "tags": []
          },
          "execution_count": 41
        }
      ]
    },
    {
      "cell_type": "code",
      "metadata": {
        "colab_type": "code",
        "id": "VvnNzerpdVv5",
        "outputId": "e3e57c31-aaf0-478a-eda7-4dec1b70adbf",
        "colab": {
          "base_uri": "https://localhost:8080/",
          "height": 34
        }
      },
      "source": [
        "W_model.predict([[174.80322616]])"
      ],
      "execution_count": 42,
      "outputs": [
        {
          "output_type": "execute_result",
          "data": {
            "text/plain": [
              "array([[99.36954674]])"
            ]
          },
          "metadata": {
            "tags": []
          },
          "execution_count": 42
        }
      ]
    },
    {
      "cell_type": "markdown",
      "metadata": {
        "colab_type": "text",
        "id": "dlW5iTFydvjo"
      },
      "source": [
        "Actual is 103, Our results are very close to the actual. This deviation is due to high level imputation done for missing values "
      ]
    }
  ]
}